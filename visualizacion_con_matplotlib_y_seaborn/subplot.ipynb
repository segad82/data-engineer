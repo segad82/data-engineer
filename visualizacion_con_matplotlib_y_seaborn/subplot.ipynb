{
 "cells": [
  {
   "cell_type": "code",
   "execution_count": null,
   "metadata": {},
   "outputs": [],
   "source": [
    "import matplotlib.pyplot as plt\n",
    "import numpy as np"
   ]
  },
  {
   "cell_type": "code",
   "execution_count": null,
   "metadata": {},
   "outputs": [],
   "source": [
    "x = np.linspace(0,5,11)\n",
    "y = x**2"
   ]
  },
  {
   "cell_type": "code",
   "execution_count": null,
   "metadata": {},
   "outputs": [],
   "source": [
    "plt.title('Sample')\n",
    "plt.subplot(2,3,1)\n",
    "plt.plot(x,y,'r--')\n",
    "plt.plot(y,x,'b-.')\n",
    "plt.subplot(2,3,2)\n",
    "plt.pie(x)\n",
    "plt.subplot(2,3,3)\n",
    "plt.scatter(x,y)\n",
    "plt.subplot(2,3,4)\n",
    "plt.hist(x)\n",
    "plt.subplot(2,3,5)\n",
    "plt.boxplot(y)\n",
    "plt.subplot(2,3,6)\n",
    "plt.plot(y,x,'g^:')\n",
    "plt.show()"
   ]
  }
 ],
 "metadata": {
  "kernelspec": {
   "display_name": "holos_test",
   "language": "python",
   "name": "python3"
  },
  "language_info": {
   "codemirror_mode": {
    "name": "ipython",
    "version": 3
   },
   "file_extension": ".py",
   "mimetype": "text/x-python",
   "name": "python",
   "nbconvert_exporter": "python",
   "pygments_lexer": "ipython3",
   "version": "3.12.3"
  }
 },
 "nbformat": 4,
 "nbformat_minor": 2
}
