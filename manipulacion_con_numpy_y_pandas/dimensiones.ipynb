{
 "cells": [
  {
   "cell_type": "markdown",
   "metadata": {},
   "source": [
    "### Todo gran proyecto de análisis de datos empueza por esto"
   ]
  },
  {
   "cell_type": "code",
   "execution_count": null,
   "metadata": {},
   "outputs": [],
   "source": [
    "import numpy as np\n",
    "import pandas as pd"
   ]
  },
  {
   "cell_type": "markdown",
   "metadata": {},
   "source": [
    "#### Vector normal de Python"
   ]
  },
  {
   "cell_type": "code",
   "execution_count": null,
   "metadata": {},
   "outputs": [],
   "source": [
    "data = [1,2,3,4,5]\n",
    "type(data)"
   ]
  },
  {
   "cell_type": "markdown",
   "metadata": {},
   "source": [
    "#### Vector de Numpy\n",
    "Todo empieza desde el vector de Numpy ya que permite usar todas sus funcionalidades."
   ]
  },
  {
   "cell_type": "code",
   "execution_count": null,
   "metadata": {},
   "outputs": [],
   "source": [
    "#convertimos un escalar de python a vector de numpy\n",
    "scalar = np.array(25)\n",
    "#visualizamos la cantidad de dimensiones\n",
    "print(scalar.ndim)\n",
    "type(scalar)"
   ]
  },
  {
   "cell_type": "code",
   "execution_count": null,
   "metadata": {},
   "outputs": [],
   "source": [
    "#convertimos un vector de python a vector de numpy\n",
    "vector = np.array(data)\n",
    "#visualizamos la cantidad de dimensiones\n",
    "print(vector.ndim)\n",
    "type(vector)"
   ]
  },
  {
   "cell_type": "code",
   "execution_count": null,
   "metadata": {},
   "outputs": [],
   "source": [
    "#convertimos una matriz de python a vector de numpy\n",
    "matriz = np.array([data, data])\n",
    "#visualizamos la cantidad de dimensiones\n",
    "print(matriz.ndim)\n",
    "type(matriz)"
   ]
  },
  {
   "cell_type": "code",
   "execution_count": null,
   "metadata": {},
   "outputs": [],
   "source": [
    "#convertimos un tensor de python a vector de numpy\n",
    "tensor = np.array([[[1,2,3],[4,5,6],[7,8,9]],[[1,2,3],[4,5,6],[7,8,9]]])\n",
    "#visualizamos la cantidad de dimensiones\n",
    "print(tensor.ndim)\n",
    "type(tensor)"
   ]
  },
  {
   "cell_type": "markdown",
   "metadata": {},
   "source": [
    "#### Agregar o eliminar dimensione"
   ]
  },
  {
   "cell_type": "code",
   "execution_count": null,
   "metadata": {},
   "outputs": [],
   "source": [
    "#se define array con 10 dimensiones\n",
    "sample = np.array(data, ndmin=10)\n",
    "print(sample)\n",
    "sample.ndim"
   ]
  },
  {
   "cell_type": "code",
   "execution_count": null,
   "metadata": {},
   "outputs": [],
   "source": [
    "#se agrega dimension como fila al array existente\n",
    "sample = np.expand_dims(np.array([1,2,3]), axis=0)\n",
    "print(sample)\n",
    "sample.ndim"
   ]
  },
  {
   "cell_type": "code",
   "execution_count": null,
   "metadata": {},
   "outputs": [],
   "source": [
    "#eliminar dimensiones en desuso\n",
    "vector_1 = np.array([1,2,3], ndmin=5)\n",
    "print(vector_1, vector_1.ndim)\n",
    "vector_2 = np.squeeze(vector_1)\n",
    "print(vector_2, vector_2.ndim)"
   ]
  }
 ],
 "metadata": {
  "kernelspec": {
   "display_name": "Python 3",
   "language": "python",
   "name": "python3"
  },
  "language_info": {
   "codemirror_mode": {
    "name": "ipython",
    "version": 3
   },
   "file_extension": ".py",
   "mimetype": "text/x-python",
   "name": "python",
   "nbconvert_exporter": "python",
   "pygments_lexer": "ipython3",
   "version": "3.11.5"
  },
  "orig_nbformat": 4
 },
 "nbformat": 4,
 "nbformat_minor": 2
}
